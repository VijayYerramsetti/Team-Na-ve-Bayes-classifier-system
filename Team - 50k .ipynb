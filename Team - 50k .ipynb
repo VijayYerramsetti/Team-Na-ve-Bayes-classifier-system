{
 "cells": [
  {
   "cell_type": "markdown",
   "id": "86b7f7ab",
   "metadata": {},
   "source": [
    "We started by importing all necessary packages and ensuring that the data is mapped to the right headings. "
   ]
  },
  {
   "cell_type": "code",
   "execution_count": 533,
   "id": "a436142f",
   "metadata": {},
   "outputs": [
    {
     "name": "stdout",
     "output_type": "stream",
     "text": [
      "   Age                 Job Type_of_employment  Hours_working_week  \\\n",
      "0   18   Handlers-cleaners            Private                  15   \n",
      "1   24        Adm-clerical            Private                  35   \n",
      "2   22     Exec-managerial            Private                   7   \n",
      "3   64     Exec-managerial       Self-emp-inc                  40   \n",
      "4   44      Prof-specialty   Self-emp-not-inc                  40   \n",
      "\n",
      "   Proceeds_of_transactions Highest_level_education  Years_of_education  \\\n",
      "0                         0                    11th                   7   \n",
      "1                         0            Some-college                  10   \n",
      "2                         0               Bachelors                  13   \n",
      "3                         0                 HS-grad                   9   \n",
      "4                         0             Prof-school                  15   \n",
      "\n",
      "   Relationship_status Relationship_in_household    Race   Gender  \\\n",
      "0        Never-married                 Own-child   White     Male   \n",
      "1        Never-married             Not-in-family   Black   Female   \n",
      "2        Never-married                 Own-child   White   Female   \n",
      "3   Married-civ-spouse                   Husband   White     Male   \n",
      "4   Married-civ-spouse                   Husband   White     Male   \n",
      "\n",
      "          Country Income_above  \n",
      "0   United-States        <=50K  \n",
      "1   United-States        <=50K  \n",
      "2   United-States        <=50K  \n",
      "3   United-States         >50K  \n",
      "4   United-States         >50K  \n"
     ]
    }
   ],
   "source": [
    "#importing necessary packages\n",
    "import pandas as pd #data science essentials\n",
    "import matplotlib.pyplot as plt #data visualization essentials\n",
    "import seaborn as sns #enhanced data visulization\n",
    "import numpy as np \n",
    "from os import listdir #importing listdir method to check location of files\n",
    "from sklearn.model_selection import train_test_split # train/test split\n",
    "\n",
    "#specifying the file\n",
    "file= \"./50k.csv\"\n",
    "\n",
    "#reading the file into Python with pandas\n",
    "uscensus = pd.read_csv (file, names = [\"Age\", \"Job\", \"Type_of_employment\", \"Hours_working_week\", \"Proceeds_of_transactions\",\"Highest_level_education\", \"Years_of_education\",\"Relationship_status\", \"Relationship_in_household\",\"Race\", \"Gender\", \"Country\", \"Income_above\"])\n",
    "\n",
    "#printing the first rows of the dataset to check the alignment between the variables and the titles\n",
    "print(uscensus.head(n=5))"
   ]
  },
  {
   "cell_type": "markdown",
   "id": "e05aa7a8",
   "metadata": {},
   "source": [
    "To get an overview of the available data we looked at the info of the dataframe.\n",
    "We can see that we have 4 integer variables and 9 categorical variables."
   ]
  },
  {
   "cell_type": "code",
   "execution_count": 534,
   "id": "758a4f32",
   "metadata": {},
   "outputs": [
    {
     "name": "stdout",
     "output_type": "stream",
     "text": [
      "<class 'pandas.core.frame.DataFrame'>\n",
      "RangeIndex: 24157 entries, 0 to 24156\n",
      "Data columns (total 13 columns):\n",
      " #   Column                     Non-Null Count  Dtype \n",
      "---  ------                     --------------  ----- \n",
      " 0   Age                        24157 non-null  int64 \n",
      " 1   Job                        24157 non-null  object\n",
      " 2   Type_of_employment         24157 non-null  object\n",
      " 3   Hours_working_week         24157 non-null  int64 \n",
      " 4   Proceeds_of_transactions   24157 non-null  int64 \n",
      " 5   Highest_level_education    24157 non-null  object\n",
      " 6   Years_of_education         24157 non-null  int64 \n",
      " 7   Relationship_status        24157 non-null  object\n",
      " 8   Relationship_in_household  24157 non-null  object\n",
      " 9   Race                       24157 non-null  object\n",
      " 10  Gender                     24157 non-null  object\n",
      " 11  Country                    24157 non-null  object\n",
      " 12  Income_above               24157 non-null  object\n",
      "dtypes: int64(4), object(9)\n",
      "memory usage: 2.4+ MB\n",
      "None\n"
     ]
    }
   ],
   "source": [
    "#looking at the columns and datatypes of the dataframe(df)\n",
    "print(uscensus.info())"
   ]
  },
  {
   "cell_type": "markdown",
   "id": "f34cb621",
   "metadata": {},
   "source": [
    "The initial check for missing values only returns False. "
   ]
  },
  {
   "cell_type": "code",
   "execution_count": 535,
   "id": "a75286df",
   "metadata": {},
   "outputs": [
    {
     "name": "stdout",
     "output_type": "stream",
     "text": [
      "Age                          False\n",
      "Job                          False\n",
      "Type_of_employment           False\n",
      "Hours_working_week           False\n",
      "Proceeds_of_transactions     False\n",
      "Highest_level_education      False\n",
      "Years_of_education           False\n",
      "Relationship_status          False\n",
      "Relationship_in_household    False\n",
      "Race                         False\n",
      "Gender                       False\n",
      "Country                      False\n",
      "Income_above                 False\n",
      "dtype: bool\n"
     ]
    }
   ],
   "source": [
    "#initial check for missing values \n",
    "print(uscensus.isnull().any(axis=0))"
   ]
  },
  {
   "cell_type": "markdown",
   "id": "2f6335bb",
   "metadata": {},
   "source": [
    "Therefore we check the descriptive statistics for both objects and numbers to check for anomalies. "
   ]
  },
  {
   "cell_type": "code",
   "execution_count": 536,
   "id": "b0025e79",
   "metadata": {},
   "outputs": [
    {
     "name": "stdout",
     "output_type": "stream",
     "text": [
      "                    Job Type_of_employment Highest_level_education  \\\n",
      "count             24157              24157                   24157   \n",
      "unique               15                  9                      16   \n",
      "top      Prof-specialty            Private                 HS-grad   \n",
      "freq               3092              16734                    7814   \n",
      "\n",
      "        Relationship_status Relationship_in_household    Race Gender  \\\n",
      "count                 24157                     24157   24157  24157   \n",
      "unique                    7                         6       5      2   \n",
      "top      Married-civ-spouse                   Husband   White   Male   \n",
      "freq                  11176                      9831   20629  16151   \n",
      "\n",
      "               Country Income_above  \n",
      "count            24157        24157  \n",
      "unique              41            2  \n",
      "top      United-States        <=50K  \n",
      "freq             21585        18307  \n"
     ]
    }
   ],
   "source": [
    "#looking at the descriptive statistics of the strings to check for anomalies\n",
    "print(uscensus.describe(include = 'object'))"
   ]
  },
  {
   "cell_type": "code",
   "execution_count": 537,
   "id": "067c0cb8",
   "metadata": {
    "scrolled": true
   },
   "outputs": [
    {
     "name": "stdout",
     "output_type": "stream",
     "text": [
      "            Age  Hours_working_week  Proceeds_of_transactions  \\\n",
      "count  24157.00            24157.00                  24157.00   \n",
      "mean      38.64               40.40                    997.56   \n",
      "std       13.65               12.37                   7440.52   \n",
      "min       17.00                1.00                  -4356.00   \n",
      "25%       28.00               40.00                      0.00   \n",
      "50%       37.00               40.00                      0.00   \n",
      "75%       48.00               45.00                      0.00   \n",
      "max       90.00               99.00                  99999.00   \n",
      "\n",
      "       Years_of_education  \n",
      "count            24157.00  \n",
      "mean                10.08  \n",
      "std                  2.57  \n",
      "min                  1.00  \n",
      "25%                  9.00  \n",
      "50%                 10.00  \n",
      "75%                 12.00  \n",
      "max                 16.00  \n"
     ]
    }
   ],
   "source": [
    "#looking at the descriptive statistics of the integers to check for anomalies\n",
    "print(uscensus.describe(include = 'number').round(decimals=2))"
   ]
  },
  {
   "cell_type": "markdown",
   "id": "40674a78",
   "metadata": {},
   "source": [
    "For Proceeds of transactions we found an exceptionally high value of 99999. Especially as the 75% quartile is 0 we want to look a the distribution through a histogram. Furthermore, we are looking at the value counts to see whether there was just a handfull exceptionally high proceeds or whether this is a frequent occurance. \n",
    "We were able to see that the value 99999 exists 119 times, we are therefore certain that this is a missing value and replaced it with NaN. Afterwards we checked whether the replacement was successful. "
   ]
  },
  {
   "cell_type": "code",
   "execution_count": 538,
   "id": "5bff0c9d",
   "metadata": {},
   "outputs": [
    {
     "data": {
      "image/png": "[encoded data removed]",
      "text/plain": [
       "<Figure size 432x288 with 1 Axes>"
      ]
     },
     "metadata": {
      "needs_background": "light"
     },
     "output_type": "display_data"
    }
   ],
   "source": [
    "#proceeds_of_transactions has a 75% quartile of 0 and a max value of 99999 \n",
    "#therefore we want to look at the overall data of Proceeds_of_transactions\n",
    "#we choose to do that with a histogram as this provides us with a good overview\n",
    "\n",
    "#creating a histogram for Proceeds of transactions\n",
    "sns.histplot(data  = uscensus,\n",
    "             x     ='Proceeds_of_transactions',\n",
    "             bins  = 15,\n",
    "             kde   = False,\n",
    "             color = 'pink')\n",
    "\n",
    "\n",
    "# this adds a title\n",
    "plt.title(label = \"Distribution of proceeds of transactions\")\n",
    "\n",
    "\n",
    "# this adds an x-label\n",
    "plt.xlabel(xlabel = 'Dollar Value')\n",
    "\n",
    "\n",
    "# this adds a y-label\n",
    "plt.ylabel(ylabel = 'Frequency')\n",
    "\n",
    "#adding the mean and the median \n",
    "plt.axvline(x=uscensus['Proceeds_of_transactions'].mean(),\n",
    "           color = 'red')\n",
    "plt.axvline(x=uscensus['Proceeds_of_transactions'].median())\n",
    "\n",
    "\n",
    "# these compile and display the plot so that it is formatted as expected\n",
    "plt.tight_layout()\n",
    "plt.show()\n"
   ]
  },
  {
   "cell_type": "code",
   "execution_count": 539,
   "id": "6ca72619",
   "metadata": {},
   "outputs": [
    {
     "name": "stdout",
     "output_type": "stream",
     "text": [
      "99999    119\n",
      "20051     27\n",
      "27828     26\n",
      "25236     10\n",
      "34095      4\n",
      "25124      3\n",
      "22040      1\n",
      "41310      1\n",
      "Name: Proceeds_of_transactions, dtype: int64\n"
     ]
    }
   ],
   "source": [
    "#we can see that there is a big gap between the data that is clustered around 0/0 and the max of 99999\n",
    "#we want to look at the exact numbers to see whether the 99999 is just a single occurance\n",
    "print(uscensus.loc[:,\"Proceeds_of_transactions\"][uscensus.loc[:,\"Proceeds_of_transactions\"]>20000].value_counts(normalize = False,\n",
    "                                                                                                          sort      = True,\n",
    "                                                                                                          ascending = False))"
   ]
  },
  {
   "cell_type": "code",
   "execution_count": 540,
   "id": "f903673e",
   "metadata": {},
   "outputs": [
    {
     "name": "stdout",
     "output_type": "stream",
     "text": [
      "20051.0    27\n",
      "27828.0    26\n",
      "25236.0    10\n",
      "34095.0     4\n",
      "25124.0     3\n",
      "22040.0     1\n",
      "41310.0     1\n",
      "Name: Proceeds_of_transactions, dtype: int64\n"
     ]
    }
   ],
   "source": [
    "#as there are 119 occurances of 99999 we are now certain that these are missing values \n",
    "#replacing the 99999 with NaN\n",
    "uscensus = uscensus.replace(to_replace = 99999, value = np.nan)\n",
    "print(uscensus.loc[:,\"Proceeds_of_transactions\"][uscensus.loc[:,\"Proceeds_of_transactions\"]>20000].value_counts(normalize = False,\n",
    "                                                                                                          sort      = True,\n",
    "                                                                                                          ascending = False))"
   ]
  },
  {
   "cell_type": "markdown",
   "id": "c41864a2",
   "metadata": {},
   "source": [
    "Next we checked the categorical variables for missing values by looking at their value counts. \n",
    "We were able to identify the questionmark as a placeholder for missing values in three different variables: Job, Country, Type of employment. \n",
    "After unsuccessfully replacing the questionmark with NaN we decide to look at the unique values for Job. We realize that the missing values are not marked by a questionmark but by a \"space?\". \n",
    "Accordingly, we successfully replace the \"space?\" with NaN. "
   ]
  },
  {
   "cell_type": "code",
   "execution_count": 541,
   "id": "9dd37071",
   "metadata": {},
   "outputs": [
    {
     "name": "stdout",
     "output_type": "stream",
     "text": [
      " Prof-specialty       3092\n",
      " Craft-repair         3011\n",
      " Exec-managerial      3002\n",
      " Adm-clerical         2796\n",
      " Sales                2707\n",
      " Other-service        2415\n",
      " Machine-op-inspct    1484\n",
      " ?                    1450\n",
      " Transport-moving     1181\n",
      " Handlers-cleaners     972\n",
      " Farming-fishing       765\n",
      " Tech-support          670\n",
      " Protective-serv       487\n",
      " Priv-house-serv       117\n",
      " Armed-Forces            8\n",
      "Name: Job, dtype: int64n\n",
      "\n",
      "\n",
      " Private             16734\n",
      " Self-emp-not-inc     1897\n",
      " Local-gov            1556\n",
      " ?                    1445\n",
      " State-gov             971\n",
      " Self-emp-inc          837\n",
      " Federal-gov           700\n",
      " Without-pay            12\n",
      " Never-worked            5\n",
      "Name: Type_of_employment, dtype: int64n\n",
      "\n",
      "\n",
      " HS-grad         7814\n",
      " Some-college    5427\n",
      " Bachelors       3958\n",
      " Masters         1281\n",
      " Assoc-voc       1014\n",
      " 11th             853\n",
      " Assoc-acdm       805\n",
      " 10th             694\n",
      " 7th-8th          484\n",
      " Prof-school      437\n",
      " 9th              363\n",
      " 12th             305\n",
      " Doctorate        303\n",
      " 5th-6th          255\n",
      " 1st-4th          130\n",
      " Preschool         34\n",
      "Name: Highest_level_education, dtype: int64n\n",
      "\n",
      "\n",
      " Married-civ-spouse       11176\n",
      " Never-married             7921\n",
      " Divorced                  3243\n",
      " Separated                  755\n",
      " Widowed                    734\n",
      " Married-spouse-absent      316\n",
      " Married-AF-spouse           12\n",
      "Name: Relationship_status, dtype: int64n\n",
      "\n",
      "\n",
      " Husband           9831\n",
      " Not-in-family     6102\n",
      " Own-child         3720\n",
      " Unmarried         2590\n",
      " Wife              1185\n",
      " Other-relative     729\n",
      "Name: Relationship_in_household, dtype: int64n\n",
      "\n",
      "\n",
      " White                 20629\n",
      " Black                  2314\n",
      " Asian-Pac-Islander      792\n",
      " Amer-Indian-Eskimo      221\n",
      " Other                   201\n",
      "Name: Race, dtype: int64n\n",
      "\n",
      "\n",
      " Male      16151\n",
      " Female     8006\n",
      "Name: Gender, dtype: int64n\n",
      "\n",
      "\n",
      " United-States                 21585\n",
      " Mexico                          491\n",
      " ?                               483\n",
      " Philippines                     151\n",
      " Germany                         104\n",
      " Canada                           89\n",
      " India                            81\n",
      " Puerto-Rico                      80\n",
      " El-Salvador                      78\n",
      " Cuba                             69\n",
      " England                          64\n",
      " Jamaica                          63\n",
      " South                            57\n",
      " Vietnam                          54\n",
      " Dominican-Republic               53\n",
      " China                            52\n",
      " Italy                            51\n",
      " Guatemala                        50\n",
      " Japan                            50\n",
      " Columbia                         47\n",
      " Poland                           43\n",
      " Taiwan                           37\n",
      " Iran                             35\n",
      " Haiti                            28\n",
      " Portugal                         27\n",
      " Peru                             22\n",
      " Nicaragua                        22\n",
      " Greece                           21\n",
      " Ecuador                          21\n",
      " France                           20\n",
      " Trinadad&Tobago                  17\n",
      " Ireland                          16\n",
      " Hong                             14\n",
      " Thailand                         13\n",
      " Cambodia                         12\n",
      " Laos                             12\n",
      " Outlying-US(Guam-USVI-etc)       11\n",
      " Honduras                         10\n",
      " Yugoslavia                        9\n",
      " Scotland                          8\n",
      " Hungary                           7\n",
      "Name: Country, dtype: int64n\n",
      "\n",
      "\n",
      " <=50K    18307\n",
      " >50K      5850\n",
      "Name: Income_above, dtype: int64n\n",
      "\n",
      "\n"
     ]
    }
   ],
   "source": [
    "#looking for further anomalies with value_counts\n",
    "for var in uscensus:\n",
    "    try:\n",
    "        float(uscensus[var][0])\n",
    "    except:\n",
    "        print(uscensus[var].value_counts(), end =\"n\\n\\n\\n\")"
   ]
  },
  {
   "cell_type": "code",
   "execution_count": 542,
   "id": "ba91cd67",
   "metadata": {},
   "outputs": [
    {
     "name": "stdout",
     "output_type": "stream",
     "text": [
      " Prof-specialty       3092\n",
      " Craft-repair         3011\n",
      " Exec-managerial      3002\n",
      " Adm-clerical         2796\n",
      " Sales                2707\n",
      " Other-service        2415\n",
      " Machine-op-inspct    1484\n",
      " ?                    1450\n",
      " Transport-moving     1181\n",
      " Handlers-cleaners     972\n",
      " Farming-fishing       765\n",
      " Tech-support          670\n",
      " Protective-serv       487\n",
      " Priv-house-serv       117\n",
      " Armed-Forces            8\n",
      "Name: Job, dtype: int64n\n",
      "\n",
      "\n",
      " Private             16734\n",
      " Self-emp-not-inc     1897\n",
      " Local-gov            1556\n",
      " ?                    1445\n",
      " State-gov             971\n",
      " Self-emp-inc          837\n",
      " Federal-gov           700\n",
      " Without-pay            12\n",
      " Never-worked            5\n",
      "Name: Type_of_employment, dtype: int64n\n",
      "\n",
      "\n",
      " HS-grad         7814\n",
      " Some-college    5427\n",
      " Bachelors       3958\n",
      " Masters         1281\n",
      " Assoc-voc       1014\n",
      " 11th             853\n",
      " Assoc-acdm       805\n",
      " 10th             694\n",
      " 7th-8th          484\n",
      " Prof-school      437\n",
      " 9th              363\n",
      " 12th             305\n",
      " Doctorate        303\n",
      " 5th-6th          255\n",
      " 1st-4th          130\n",
      " Preschool         34\n",
      "Name: Highest_level_education, dtype: int64n\n",
      "\n",
      "\n",
      " Married-civ-spouse       11176\n",
      " Never-married             7921\n",
      " Divorced                  3243\n",
      " Separated                  755\n",
      " Widowed                    734\n",
      " Married-spouse-absent      316\n",
      " Married-AF-spouse           12\n",
      "Name: Relationship_status, dtype: int64n\n",
      "\n",
      "\n",
      " Husband           9831\n",
      " Not-in-family     6102\n",
      " Own-child         3720\n",
      " Unmarried         2590\n",
      " Wife              1185\n",
      " Other-relative     729\n",
      "Name: Relationship_in_household, dtype: int64n\n",
      "\n",
      "\n",
      " White                 20629\n",
      " Black                  2314\n",
      " Asian-Pac-Islander      792\n",
      " Amer-Indian-Eskimo      221\n",
      " Other                   201\n",
      "Name: Race, dtype: int64n\n",
      "\n",
      "\n",
      " Male      16151\n",
      " Female     8006\n",
      "Name: Gender, dtype: int64n\n",
      "\n",
      "\n",
      " United-States                 21585\n",
      " Mexico                          491\n",
      " ?                               483\n",
      " Philippines                     151\n",
      " Germany                         104\n",
      " Canada                           89\n",
      " India                            81\n",
      " Puerto-Rico                      80\n",
      " El-Salvador                      78\n",
      " Cuba                             69\n",
      " England                          64\n",
      " Jamaica                          63\n",
      " South                            57\n",
      " Vietnam                          54\n",
      " Dominican-Republic               53\n",
      " China                            52\n",
      " Italy                            51\n",
      " Guatemala                        50\n",
      " Japan                            50\n",
      " Columbia                         47\n",
      " Poland                           43\n",
      " Taiwan                           37\n",
      " Iran                             35\n",
      " Haiti                            28\n",
      " Portugal                         27\n",
      " Peru                             22\n",
      " Nicaragua                        22\n",
      " Greece                           21\n",
      " Ecuador                          21\n",
      " France                           20\n",
      " Trinadad&Tobago                  17\n",
      " Ireland                          16\n",
      " Hong                             14\n",
      " Thailand                         13\n",
      " Cambodia                         12\n",
      " Laos                             12\n",
      " Outlying-US(Guam-USVI-etc)       11\n",
      " Honduras                         10\n",
      " Yugoslavia                        9\n",
      " Scotland                          8\n",
      " Hungary                           7\n",
      "Name: Country, dtype: int64n\n",
      "\n",
      "\n",
      " <=50K    18307\n",
      " >50K      5850\n",
      "Name: Income_above, dtype: int64n\n",
      "\n",
      "\n"
     ]
    }
   ],
   "source": [
    "#we were able to identify questionmarks as a placeholder for missing values in the categorical variables\n",
    "#there are questionmarks in three columns: job, country and type of employment\n",
    "uscensus = uscensus.replace(to_replace = \"?\", value = np.nan)\n",
    "\n",
    "#verifying that the replacing of the questionmarks was successfull\n",
    "for var in uscensus:\n",
    "    try:\n",
    "        float(uscensus[var][0])\n",
    "    except:\n",
    "        print(uscensus[var].value_counts(), end =\"n\\n\\n\\n\")"
   ]
  },
  {
   "cell_type": "code",
   "execution_count": 543,
   "id": "13fa5b07",
   "metadata": {},
   "outputs": [
    {
     "name": "stdout",
     "output_type": "stream",
     "text": [
      "[' Handlers-cleaners' ' Adm-clerical' ' Exec-managerial' ' Prof-specialty'\n",
      " ' Craft-repair' ' Sales' ' Farming-fishing' ' Transport-moving'\n",
      " ' Priv-house-serv' ' Other-service' ' Protective-serv' ' ?'\n",
      " ' Tech-support' ' Machine-op-inspct' ' Armed-Forces']\n"
     ]
    }
   ],
   "source": [
    "#realizing we were unable to replace \"?\" therefore we need to dig deeper\n",
    "#looking at the unique values of Job\n",
    "print(uscensus.Job.unique())"
   ]
  },
  {
   "cell_type": "code",
   "execution_count": 544,
   "id": "b77f9b00",
   "metadata": {},
   "outputs": [
    {
     "name": "stdout",
     "output_type": "stream",
     "text": [
      " Prof-specialty       3092\n",
      " Craft-repair         3011\n",
      " Exec-managerial      3002\n",
      " Adm-clerical         2796\n",
      " Sales                2707\n",
      " Other-service        2415\n",
      " Machine-op-inspct    1484\n",
      " Transport-moving     1181\n",
      " Handlers-cleaners     972\n",
      " Farming-fishing       765\n",
      " Tech-support          670\n",
      " Protective-serv       487\n",
      " Priv-house-serv       117\n",
      " Armed-Forces            8\n",
      "Name: Job, dtype: int64n\n",
      "\n",
      "\n",
      " Private             16734\n",
      " Self-emp-not-inc     1897\n",
      " Local-gov            1556\n",
      " State-gov             971\n",
      " Self-emp-inc          837\n",
      " Federal-gov           700\n",
      " Without-pay            12\n",
      " Never-worked            5\n",
      "Name: Type_of_employment, dtype: int64n\n",
      "\n",
      "\n",
      " HS-grad         7814\n",
      " Some-college    5427\n",
      " Bachelors       3958\n",
      " Masters         1281\n",
      " Assoc-voc       1014\n",
      " 11th             853\n",
      " Assoc-acdm       805\n",
      " 10th             694\n",
      " 7th-8th          484\n",
      " Prof-school      437\n",
      " 9th              363\n",
      " 12th             305\n",
      " Doctorate        303\n",
      " 5th-6th          255\n",
      " 1st-4th          130\n",
      " Preschool         34\n",
      "Name: Highest_level_education, dtype: int64n\n",
      "\n",
      "\n",
      " Married-civ-spouse       11176\n",
      " Never-married             7921\n",
      " Divorced                  3243\n",
      " Separated                  755\n",
      " Widowed                    734\n",
      " Married-spouse-absent      316\n",
      " Married-AF-spouse           12\n",
      "Name: Relationship_status, dtype: int64n\n",
      "\n",
      "\n",
      " Husband           9831\n",
      " Not-in-family     6102\n",
      " Own-child         3720\n",
      " Unmarried         2590\n",
      " Wife              1185\n",
      " Other-relative     729\n",
      "Name: Relationship_in_household, dtype: int64n\n",
      "\n",
      "\n",
      " White                 20629\n",
      " Black                  2314\n",
      " Asian-Pac-Islander      792\n",
      " Amer-Indian-Eskimo      221\n",
      " Other                   201\n",
      "Name: Race, dtype: int64n\n",
      "\n",
      "\n",
      " Male      16151\n",
      " Female     8006\n",
      "Name: Gender, dtype: int64n\n",
      "\n",
      "\n",
      " United-States                 21585\n",
      " Mexico                          491\n",
      " Philippines                     151\n",
      " Germany                         104\n",
      " Canada                           89\n",
      " India                            81\n",
      " Puerto-Rico                      80\n",
      " El-Salvador                      78\n",
      " Cuba                             69\n",
      " England                          64\n",
      " Jamaica                          63\n",
      " South                            57\n",
      " Vietnam                          54\n",
      " Dominican-Republic               53\n",
      " China                            52\n",
      " Italy                            51\n",
      " Japan                            50\n",
      " Guatemala                        50\n",
      " Columbia                         47\n",
      " Poland                           43\n",
      " Taiwan                           37\n",
      " Iran                             35\n",
      " Haiti                            28\n",
      " Portugal                         27\n",
      " Nicaragua                        22\n",
      " Peru                             22\n",
      " Ecuador                          21\n",
      " Greece                           21\n",
      " France                           20\n",
      " Trinadad&Tobago                  17\n",
      " Ireland                          16\n",
      " Hong                             14\n",
      " Thailand                         13\n",
      " Cambodia                         12\n",
      " Laos                             12\n",
      " Outlying-US(Guam-USVI-etc)       11\n",
      " Honduras                         10\n",
      " Yugoslavia                        9\n",
      " Scotland                          8\n",
      " Hungary                           7\n",
      "Name: Country, dtype: int64n\n",
      "\n",
      "\n",
      " <=50K    18307\n",
      " >50K      5850\n",
      "Name: Income_above, dtype: int64n\n",
      "\n",
      "\n"
     ]
    }
   ],
   "source": [
    "#by looking for unique values we were able to see that there is a space before the ?\n",
    "#the missing values are actually represented by a \"space?\"\n",
    "#accordingly we will try to replace those in the dataset\n",
    "uscensus = uscensus.replace(' ?', np.nan)\n",
    "\n",
    "#checking whether the .replace() has worked this time \n",
    "#taking a closer look at the frequencies of the categorical values \n",
    "for var in uscensus:\n",
    "    try:\n",
    "        float(uscensus[var][0])\n",
    "    except:\n",
    "        print(uscensus[var].value_counts(), end =\"n\\n\\n\\n\")"
   ]
  },
  {
   "cell_type": "markdown",
   "id": "f9718c16",
   "metadata": {},
   "source": [
    "After identifying the missing values for numeric and categorical variables we want to see the sum of the missing values per variable as well as the total number of missing values. \n",
    "The total number of missing values is 3497. \n",
    "To get a better understanding of the number of missing values compared to the distribution we look at the value counts for Job, Country and Type of employment. We decided to create a histogram for Job as these value counts are closer together. This enables us a better overview. \n",
    "Country and Type of employment have a very clear mode and therefore don't require a histogram."
   ]
  },
  {
   "cell_type": "code",
   "execution_count": 545,
   "id": "11b1b8d5",
   "metadata": {},
   "outputs": [
    {
     "name": "stdout",
     "output_type": "stream",
     "text": [
      "Job missing values: 1450 \n",
      "Country missing values: 483 \n",
      "Type of employment missing values: 1445 \n",
      "Proceeds of transactions missing values: 119 \n",
      "\n",
      "Total number of missing values: 3497\n",
      "\n"
     ]
    }
   ],
   "source": [
    "#we were able to replace all missing values both for categorical and numeric variables \n",
    "#now we count the missing values\n",
    "\n",
    "job_mv=uscensus.loc[ : , 'Job'].isnull().sum(axis = 0)\n",
    "country_mv=uscensus.loc[ : , 'Country'].isnull().sum(axis = 0)\n",
    "employment_mv=uscensus.loc[ : , 'Type_of_employment'].isnull().sum(axis = 0)\n",
    "proceeds_mv=uscensus.loc[ : , 'Proceeds_of_transactions'].isnull().sum(axis = 0)\n",
    "sum_mv= int(job_mv)+int(country_mv)+int(employment_mv)+int(proceeds_mv)\n",
    "\n",
    "print(f\"Job missing values: {job_mv} \")\n",
    "print(f\"Country missing values: {country_mv} \")\n",
    "print(f\"Type of employment missing values: {employment_mv} \")\n",
    "print(f\"Proceeds of transactions missing values: {proceeds_mv} \")\n",
    "print(f\"\"\"\n",
    "Total number of missing values: {sum_mv}\n",
    "\"\"\")"
   ]
  },
  {
   "cell_type": "code",
   "execution_count": 546,
   "id": "04065c70",
   "metadata": {},
   "outputs": [
    {
     "data": {
      "image/png": "[encoded data removed]",
      "text/plain": [
       "<Figure size 432x288 with 1 Axes>"
      ]
     },
     "metadata": {
      "needs_background": "light"
     },
     "output_type": "display_data"
    },
    {
     "name": "stdout",
     "output_type": "stream",
     "text": [
      " Prof-specialty       3092\n",
      " Craft-repair         3011\n",
      " Exec-managerial      3002\n",
      " Adm-clerical         2796\n",
      " Sales                2707\n",
      " Other-service        2415\n",
      " Machine-op-inspct    1484\n",
      " Transport-moving     1181\n",
      " Handlers-cleaners     972\n",
      " Farming-fishing       765\n",
      " Tech-support          670\n",
      " Protective-serv       487\n",
      " Priv-house-serv       117\n",
      " Armed-Forces            8\n",
      "Name: Job, dtype: int64\n",
      "\n",
      "Sum: 22707\n"
     ]
    }
   ],
   "source": [
    "#taking a closer look a the distribution of the data with the missing values\n",
    "#creating a histogram to simplify the overview\n",
    "#creating value counts for comparison to the missing values \n",
    "Job_vc=uscensus.Job.value_counts()\n",
    "Job_vc.plot(kind='bar')\n",
    "plt.show()\n",
    "print(uscensus.loc[:,\"Job\"].value_counts())\n",
    "print(f\"\"\"\n",
    "Sum: {uscensus.loc[:,\"Job\"].value_counts().sum()}\"\"\")"
   ]
  },
  {
   "cell_type": "code",
   "execution_count": 547,
   "id": "e77e440e",
   "metadata": {},
   "outputs": [
    {
     "name": "stdout",
     "output_type": "stream",
     "text": [
      " United-States                 21585\n",
      " Mexico                          491\n",
      " Philippines                     151\n",
      " Germany                         104\n",
      " Canada                           89\n",
      " India                            81\n",
      " Puerto-Rico                      80\n",
      " El-Salvador                      78\n",
      " Cuba                             69\n",
      " England                          64\n",
      " Jamaica                          63\n",
      " South                            57\n",
      " Vietnam                          54\n",
      " Dominican-Republic               53\n",
      " China                            52\n",
      " Italy                            51\n",
      " Japan                            50\n",
      " Guatemala                        50\n",
      " Columbia                         47\n",
      " Poland                           43\n",
      " Taiwan                           37\n",
      " Iran                             35\n",
      " Haiti                            28\n",
      " Portugal                         27\n",
      " Nicaragua                        22\n",
      " Peru                             22\n",
      " Ecuador                          21\n",
      " Greece                           21\n",
      " France                           20\n",
      " Trinadad&Tobago                  17\n",
      " Ireland                          16\n",
      " Hong                             14\n",
      " Thailand                         13\n",
      " Cambodia                         12\n",
      " Laos                             12\n",
      " Outlying-US(Guam-USVI-etc)       11\n",
      " Honduras                         10\n",
      " Yugoslavia                        9\n",
      " Scotland                          8\n",
      " Hungary                           7\n",
      "Name: Country, dtype: int64\n",
      "\n",
      "Sum: 23674\n"
     ]
    }
   ],
   "source": [
    "#taking a closer look a the distribution of the data with the missing values\n",
    "#creating value counts for comparison to the missing values \n",
    "print(uscensus.loc[:,\"Country\"].value_counts())\n",
    "print(f\"\"\"\n",
    "Sum: {uscensus.loc[:,\"Country\"].value_counts().sum()}\"\"\")"
   ]
  },
  {
   "cell_type": "code",
   "execution_count": 548,
   "id": "94a30e56",
   "metadata": {},
   "outputs": [
    {
     "name": "stdout",
     "output_type": "stream",
     "text": [
      " Private             16734\n",
      " Self-emp-not-inc     1897\n",
      " Local-gov            1556\n",
      " State-gov             971\n",
      " Self-emp-inc          837\n",
      " Federal-gov           700\n",
      " Without-pay            12\n",
      " Never-worked            5\n",
      "Name: Type_of_employment, dtype: int64\n",
      "\n",
      "Sum: 22712\n"
     ]
    }
   ],
   "source": [
    "#taking a closer look a the distribution of the data with the missing values\n",
    "#creating value counts for comparison to the missing values \n",
    "print(uscensus.loc[:,\"Type_of_employment\"].value_counts())\n",
    "print(f\"\"\"\n",
    "Sum: {uscensus.loc[:,\"Type_of_employment\"].value_counts().sum()}\"\"\")"
   ]
  },
  {
   "cell_type": "markdown",
   "id": "8889cdc2",
   "metadata": {},
   "source": [
    "As a last step of our missing value analysis we created missing value flags and compared these with the original number of missing values. "
   ]
  },
  {
   "cell_type": "code",
   "execution_count": 549,
   "id": "d0a648b5",
   "metadata": {},
   "outputs": [
    {
     "name": "stdout",
     "output_type": "stream",
     "text": [
      "Index(['Age', 'Job', 'Type_of_employment', 'Hours_working_week',\n",
      "       'Proceeds_of_transactions', 'Highest_level_education',\n",
      "       'Years_of_education', 'Relationship_status',\n",
      "       'Relationship_in_household', 'Race', 'Gender', 'Country',\n",
      "       'Income_above', 'm_Job', 'm_Type_of_employment',\n",
      "       'm_Proceeds_of_transactions', 'm_Country'],\n",
      "      dtype='object')\n"
     ]
    }
   ],
   "source": [
    "# developing a loop to automatically flag missing values\n",
    "df=uscensus\n",
    "\n",
    "for col in df:\n",
    "\n",
    "    if df[col].isnull().astype(int).sum() > 0:\n",
    "        df['m_'+col] = df[col].isnull().astype(int)\n",
    "\n",
    "print(df.columns)"
   ]
  },
  {
   "cell_type": "code",
   "execution_count": 550,
   "id": "27328fef",
   "metadata": {},
   "outputs": [
    {
     "name": "stdout",
     "output_type": "stream",
     "text": [
      "\n",
      "Original Missing Value Counts:\n",
      "------------------------------\n",
      " Prof-specialty       3092\n",
      " Craft-repair         3011\n",
      " Exec-managerial      3002\n",
      " Adm-clerical         2796\n",
      " Sales                2707\n",
      " Other-service        2415\n",
      " Machine-op-inspct    1484\n",
      " Transport-moving     1181\n",
      " Handlers-cleaners     972\n",
      " Farming-fishing       765\n",
      " Tech-support          670\n",
      " Protective-serv       487\n",
      " Priv-house-serv       117\n",
      " Armed-Forces            8\n",
      "Name: Job, dtype: int64\n",
      "\n",
      "\n",
      "Sums of Missing Value Flags\n",
      "--------------------------\n",
      " Prof-specialty       4542\n",
      " Craft-repair         3011\n",
      " Exec-managerial      3002\n",
      " Adm-clerical         2796\n",
      " Sales                2707\n",
      " Other-service        2415\n",
      " Machine-op-inspct    1484\n",
      " Transport-moving     1181\n",
      " Handlers-cleaners     972\n",
      " Farming-fishing       765\n",
      " Tech-support          670\n",
      " Protective-serv       487\n",
      " Priv-house-serv       117\n",
      " Armed-Forces            8\n",
      "Name: Job, dtype: int64\n",
      "\n",
      "\n"
     ]
    }
   ],
   "source": [
    "#verifying that all missing values are included in the missing value flags columns\n",
    "print(f\"\"\"\n",
    "Original Missing Value Counts:\n",
    "------------------------------\n",
    "{uscensus.loc[:,\"Job\"].value_counts()}\n",
    "\n",
    "\n",
    "Sums of Missing Value Flags\n",
    "--------------------------\n",
    "{copy_uscensus.loc[:,\"Job\"].value_counts()}\n",
    "\n",
    "\"\"\")\n"
   ]
  },
  {
   "cell_type": "markdown",
   "id": "e36561e7",
   "metadata": {},
   "source": [
    "Before we started replacing the missing values we created a new DataFrame to enable comparisons between the DataFrame with missing values and the one with imputed values.\n",
    "Since the distribution for Proceeds of transactions appears skewed positive, the median better represents the center of this distribution. Therefore, we should choose the median to fill in missing values.\n",
    "For the categorical variables we chose the mode to fill the missing values. \n",
    "To ensure this was successful we checked the missing value count at the end. Lastly we checked that the missing values were added to the right variable. "
   ]
  },
  {
   "cell_type": "code",
   "execution_count": 551,
   "id": "12dddf34",
   "metadata": {},
   "outputs": [],
   "source": [
    "#creating a copy of the dataframe before replacing the missing values \n",
    "copy_uscensus = pd.DataFrame.copy(uscensus)"
   ]
  },
  {
   "cell_type": "code",
   "execution_count": 552,
   "id": "2d8fc612",
   "metadata": {},
   "outputs": [
    {
     "name": "stdout",
     "output_type": "stream",
     "text": [
      "Age                           0\n",
      "Job                           0\n",
      "Type_of_employment            0\n",
      "Hours_working_week            0\n",
      "Proceeds_of_transactions      0\n",
      "Highest_level_education       0\n",
      "Years_of_education            0\n",
      "Relationship_status           0\n",
      "Relationship_in_household     0\n",
      "Race                          0\n",
      "Gender                        0\n",
      "Country                       0\n",
      "Income_above                  0\n",
      "m_Job                         0\n",
      "m_Type_of_employment          0\n",
      "m_Proceeds_of_transactions    0\n",
      "m_Country                     0\n",
      "dtype: int64\n"
     ]
    }
   ],
   "source": [
    "#imputing missing values with fillna for the numeric variable \n",
    "proceeds_median= copy_uscensus['Proceeds_of_transactions'].median()\n",
    "copy_uscensus['Proceeds_of_transactions'] = copy_uscensus['Proceeds_of_transactions'].fillna(proceeds_median)\n",
    "\n",
    "#imputing missing values with fillna for the categorical variables \n",
    "copy_uscensus[\"Job\"].fillna(value=copy_uscensus[\"Job\"].mode()[0], inplace =True)\n",
    "\n",
    "copy_uscensus[\"Country\"].fillna(value=copy_uscensus[\"Country\"].mode()[0], inplace = True)\n",
    "\n",
    "copy_uscensus[\"Type_of_employment\"].fillna(value=copy_uscensus[\"Type_of_employment\"].mode()[0], inplace =True)\n",
    "\n",
    "print(copy_uscensus.isnull().sum(axis = 0))\n"
   ]
  },
  {
   "cell_type": "code",
   "execution_count": 553,
   "id": "dc1f5241",
   "metadata": {},
   "outputs": [
    {
     "name": "stdout",
     "output_type": "stream",
     "text": [
      "\n",
      "Employment without missing values:\n",
      "---------------------------------------\n",
      " Private             16734\n",
      " Self-emp-not-inc     1897\n",
      " Local-gov            1556\n",
      " State-gov             971\n",
      " Self-emp-inc          837\n",
      " Federal-gov           700\n",
      " Without-pay            12\n",
      " Never-worked            5\n",
      "Name: Type_of_employment, dtype: int64\n",
      "\n",
      "\n",
      "Employment with imputed missing values:\n",
      "---------------------------------------\n",
      " Private             18179\n",
      " Self-emp-not-inc     1897\n",
      " Local-gov            1556\n",
      " State-gov             971\n",
      " Self-emp-inc          837\n",
      " Federal-gov           700\n",
      " Without-pay            12\n",
      " Never-worked            5\n",
      "Name: Type_of_employment, dtype: int64\n",
      "\n",
      "\n"
     ]
    }
   ],
   "source": [
    "#verifying that all missing values are included in the missing value flags columns\n",
    "print(f\"\"\"\n",
    "Employment without missing values:\n",
    "---------------------------------------\n",
    "{uscensus.loc[:,\"Type_of_employment\"].value_counts()}\n",
    "\n",
    "\n",
    "Employment with imputed missing values:\n",
    "---------------------------------------\n",
    "{copy_uscensus.loc[:,\"Type_of_employment\"].value_counts()}\n",
    "\n",
    "\"\"\")\n"
   ]
  },
  {
   "cell_type": "markdown",
   "id": "8605d586",
   "metadata": {},
   "source": [
    "In the next step we created dummie variables for the categorical variables. To keep it flexible we decided to code each line which enabled us to choose the number of variables that we wanted to create dummie variables for on demand."
   ]
  },
  {
   "cell_type": "code",
   "execution_count": 554,
   "id": "1b85a6c3",
   "metadata": {},
   "outputs": [
    {
     "name": "stdout",
     "output_type": "stream",
     "text": [
      "   Age                 Job Type_of_employment  Hours_working_week  \\\n",
      "0   18   Handlers-cleaners            Private                  15   \n",
      "1   24        Adm-clerical            Private                  35   \n",
      "2   22     Exec-managerial            Private                   7   \n",
      "3   64     Exec-managerial       Self-emp-inc                  40   \n",
      "4   44      Prof-specialty   Self-emp-not-inc                  40   \n",
      "5   36        Craft-repair            Private                  55   \n",
      "6   26     Exec-managerial            Private                  40   \n",
      "7   31      Prof-specialty   Self-emp-not-inc                  50   \n",
      "8   24               Sales            Private                  40   \n",
      "9   50     Exec-managerial            Private                  55   \n",
      "\n",
      "   Proceeds_of_transactions Highest_level_education  Years_of_education  \\\n",
      "0                       0.0                    11th                   7   \n",
      "1                       0.0            Some-college                  10   \n",
      "2                       0.0               Bachelors                  13   \n",
      "3                       0.0                 HS-grad                   9   \n",
      "4                       0.0             Prof-school                  15   \n",
      "5                       0.0                 HS-grad                   9   \n",
      "6                       0.0               Assoc-voc                  11   \n",
      "7                   -1902.0               Bachelors                  13   \n",
      "8                       0.0                 HS-grad                   9   \n",
      "9                   -1887.0                 HS-grad                   9   \n",
      "\n",
      "   Relationship_status Relationship_in_household    Race  ...  Without-pay  \\\n",
      "0        Never-married                 Own-child   White  ...            0   \n",
      "1        Never-married             Not-in-family   Black  ...            0   \n",
      "2        Never-married                 Own-child   White  ...            0   \n",
      "3   Married-civ-spouse                   Husband   White  ...            0   \n",
      "4   Married-civ-spouse                   Husband   White  ...            0   \n",
      "5   Married-civ-spouse                   Husband   White  ...            0   \n",
      "6   Married-civ-spouse                      Wife   White  ...            0   \n",
      "7   Married-civ-spouse                   Husband   White  ...            0   \n",
      "8   Married-civ-spouse                      Wife   White  ...            0   \n",
      "9   Married-civ-spouse                   Husband   Black  ...            0   \n",
      "\n",
      "   Amer-Indian-Eskimo  Asian-Pac-Islander   Black   Other   White   Female  \\\n",
      "0                   0                   0       0       0       1        0   \n",
      "1                   0                   0       1       0       0        1   \n",
      "2                   0                   0       0       0       1        1   \n",
      "3                   0                   0       0       0       1        0   \n",
      "4                   0                   0       0       0       1        0   \n",
      "5                   0                   0       0       0       1        0   \n",
      "6                   0                   0       0       0       1        1   \n",
      "7                   0                   0       0       0       1        0   \n",
      "8                   0                   0       0       0       1        1   \n",
      "9                   0                   0       1       0       0        0   \n",
      "\n",
      "    Male   <=50K   >50K  \n",
      "0      1       1      0  \n",
      "1      0       1      0  \n",
      "2      0       1      0  \n",
      "3      1       0      1  \n",
      "4      1       0      1  \n",
      "5      1       0      1  \n",
      "6      0       1      0  \n",
      "7      1       0      1  \n",
      "8      0       0      1  \n",
      "9      1       0      1  \n",
      "\n",
      "[10 rows x 34 columns]\n"
     ]
    }
   ],
   "source": [
    "#creaing dummies for some of the categorical variables and adding them to the df \n",
    "#no loop to easier add and remove dummies for different variables\n",
    "#we are also not dropping the original columns as we are going to create bins in excel where this information helps\n",
    "\n",
    "#copy_uscensus = pd.concat([copy_uscensus, pd.get_dummies(df['Job'])], axis=1)\n",
    "copy_uscensus = pd.concat([copy_uscensus, pd.get_dummies(df['Type_of_employment'])], axis=1)\n",
    "#copy_uscensus = pd.concat([copy_uscensus, pd.get_dummies(df['Highest_level_education'])], axis=1)\n",
    "#copy_uscensus = pd.concat([copy_uscensus, pd.get_dummies(df['Relationship_in_household'])], axis=1)\n",
    "#copy_uscensus = pd.concat([copy_uscensus, pd.get_dummies(df['Country_of_birth'])], axis=1)\n",
    "copy_uscensus = pd.concat([copy_uscensus, pd.get_dummies(df['Race'])], axis=1)\n",
    "copy_uscensus = pd.concat([copy_uscensus, pd.get_dummies(df['Gender'])], axis=1)\n",
    "#copy_uscensus = pd.concat([copy_uscensus, pd.get_dummies(df['Country'])], axis=1)\n",
    "copy_uscensus = pd.concat([copy_uscensus, pd.get_dummies(df['Income_above'])], axis=1)\n",
    "\n",
    "#template in case we at somepoint want to drop the original columns \n",
    "#copy_uscensus = pd.concat([copy_uscensus.drop('Job', axis=1), pd.get_dummies(copy_uscensus['Job'])], axis=1)\n",
    "\n",
    "print(copy_uscensus.head(n=10))"
   ]
  },
  {
   "cell_type": "markdown",
   "id": "f5c01555",
   "metadata": {},
   "source": [
    "Lastly, we seperated the y variable Income and randomly created the train and test dataframes before we exported the results to excel. "
   ]
  },
  {
   "cell_type": "code",
   "execution_count": 555,
   "id": "271d66ef",
   "metadata": {},
   "outputs": [
    {
     "name": "stdout",
     "output_type": "stream",
     "text": [
      "\n",
      "Training Data\n",
      "-------------\n",
      "X-side: (19325, 33)\n",
      "y-side: 19325\n",
      "\n",
      "\n",
      "Testing Data\n",
      "------------\n",
      "X-side: (4832, 33)\n",
      "y-side: 4832\n",
      "\n"
     ]
    }
   ],
   "source": [
    "#seperating our y variable Income from the rest of the data\n",
    "\n",
    "# preparing explanatory variable data\n",
    "uscensus_data   = copy_uscensus.drop(['Income_above'],\n",
    "                                axis = 1)\n",
    "\n",
    "\n",
    "# preparing response variable data\n",
    "uscensus_target = copy_uscensus.loc[ : , 'Income_above']\n",
    "\n",
    "\n",
    "# preparing training and testing sets (all letters are lowercase)\n",
    "x_train, x_test, y_train, y_test = train_test_split(\n",
    "            uscensus_data,\n",
    "            uscensus_target,\n",
    "            test_size = 0.20,\n",
    "            random_state = 1223)\n",
    "\n",
    "\n",
    "# checking the shapes of the datasets\n",
    "print(f\"\"\"\n",
    "Training Data\n",
    "-------------\n",
    "X-side: {x_train.shape}\n",
    "y-side: {y_train.shape[0]}\n",
    "\n",
    "\n",
    "Testing Data\n",
    "------------\n",
    "X-side: {x_test.shape}\n",
    "y-side: {y_test.shape[0]}\n",
    "\"\"\")"
   ]
  },
  {
   "cell_type": "code",
   "execution_count": 556,
   "id": "9cc4e0b2",
   "metadata": {},
   "outputs": [],
   "source": [
    "#creating four df, two for the training data, two for the testing data\n",
    "#test df for x and y variables\n",
    "train_features = pd.concat([x_train], axis = 1)\n",
    "\n",
    "train_y = pd.concat([y_train], axis = 1)\n",
    "\n",
    "#test df for x and y variables\n",
    "test_features = pd.concat([x_test], axis = 1)\n",
    "\n",
    "test_y = pd.concat([y_test], axis = 1)\n",
    "\n"
   ]
  },
  {
   "cell_type": "code",
   "execution_count": 557,
   "id": "4bf61672",
   "metadata": {},
   "outputs": [],
   "source": [
    "# saving the training set as two Excel files\n",
    "train_features.to_excel(excel_writer = \"uscensus_train_x.xlsx\",\n",
    "                        index        = False)\n",
    "\n",
    "train_y.to_excel(excel_writer = \"uscensus_train_y.xlsx\",\n",
    "                        index        = False)\n",
    "\n",
    "# saving the testing set as two Excel files\n",
    "test_features.to_excel(excel_writer = \"uscensus_test_x.xlsx\",\n",
    "                       index        = False)\n",
    "\n",
    "test_y.to_excel(excel_writer = \"uscensus_test_y.xlsx\",\n",
    "                       index        = False)"
   ]
  }
 ],
 "metadata": {
  "kernelspec": {
   "display_name": "Python 3",
   "language": "python",
   "name": "python3"
  },
  "language_info": {
   "codemirror_mode": {
    "name": "ipython",
    "version": 3
   },
   "file_extension": ".py",
   "mimetype": "text/x-python",
   "name": "python",
   "nbconvert_exporter": "python",
   "pygments_lexer": "ipython3",
   "version": "3.8.8"
  },
  "toc": {
   "base_numbering": 1,
   "nav_menu": {},
   "number_sections": true,
   "sideBar": true,
   "skip_h1_title": false,
   "title_cell": "Table of Contents",
   "title_sidebar": "Contents",
   "toc_cell": false,
   "toc_position": {},
   "toc_section_display": true,
   "toc_window_display": false
  },
  "varInspector": {
   "cols": {
    "lenName": 16,
    "lenType": 16,
    "lenVar": 40
   },
   "kernels_config": {
    "python": {
     "delete_cmd_postfix": "",
     "delete_cmd_prefix": "del ",
     "library": "var_list.py",
     "varRefreshCmd": "print(var_dic_list())"
    },
    "r": {
     "delete_cmd_postfix": ") ",
     "delete_cmd_prefix": "rm(",
     "library": "var_list.r",
     "varRefreshCmd": "cat(var_dic_list()) "
    }
   },
   "types_to_exclude": [
    "module",
    "function",
    "builtin_function_or_method",
    "instance",
    "_Feature"
   ],
   "window_display": false
  }
 },
 "nbformat": 4,
 "nbformat_minor": 5
}
